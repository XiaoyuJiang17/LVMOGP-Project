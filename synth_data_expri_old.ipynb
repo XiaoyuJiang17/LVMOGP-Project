{
 "cells": [
  {
   "cell_type": "markdown",
   "metadata": {},
   "source": [
    "### Generate data via sampling from MOGP given known inputs and hidden vector"
   ]
  },
  {
   "cell_type": "code",
   "execution_count": 1,
   "metadata": {},
   "outputs": [],
   "source": [
    "import numpy as np\n",
    "import random\n",
    "import torch\n",
    "from gpytorch.kernels import ScaleKernel, RBFKernel\n",
    "from linear_operator.operators import KroneckerProductLinearOperator\n",
    "from torch import Tensor\n",
    "from torch.distributions import MultivariateNormal\n",
    "from lvmogp_svi import LVMOGP_SVI\n",
    "from gaussian_likelihood import GaussianLikelihood\n",
    "from variational_elbo import VariationalELBO\n",
    "from tqdm import trange\n",
    "from torch.optim.lr_scheduler import StepLR\n",
    "from util_functions import *"
   ]
  },
  {
   "cell_type": "markdown",
   "metadata": {},
   "source": [
    "# without missing data\n",
    "# Compare to synth_data_expri.ipynb, this section is based on another implementation "
   ]
  },
  {
   "cell_type": "code",
   "execution_count": 3,
   "metadata": {},
   "outputs": [],
   "source": [
    "# load in synthetic data (only call this function once)\n",
    "n_total = 700 # totally 700 points for C\n",
    "n_outputs = 20\n",
    "X_true, C_total, sample_total_data = tidily_sythetic_data_from_MOGP(n_C=n_total, n_X=n_outputs)"
   ]
  },
  {
   "cell_type": "code",
   "execution_count": 4,
   "metadata": {},
   "outputs": [
    {
     "name": "stdout",
     "output_type": "stream",
     "text": [
      "total data targets torch.Size([14000])\n",
      "total data inputs torch.Size([700])\n"
     ]
    }
   ],
   "source": [
    "print('total data targets', sample_total_data.shape)\n",
    "print('total data inputs', C_total.shape)"
   ]
  },
  {
   "cell_type": "code",
   "execution_count": 5,
   "metadata": {},
   "outputs": [],
   "source": [
    "# In without missing data case, each output has the same set of inputs.\n",
    "# Below we obtain train inputs and test inputs.\n",
    "\n",
    "n_train = 50\n",
    "n_test = n_total - n_train\n",
    "\n",
    "train_index = random.sample(range(n_total), n_train)\n",
    "C_train = C_total[train_index]\n",
    "\n",
    "test_index = [index for index in range(n_total) if index not in train_index]\n",
    "C_test = C_total[test_index]\n",
    "\n",
    "assert C_train.shape[0] == n_train\n",
    "assert C_test.shape[0] == n_test"
   ]
  },
  {
   "cell_type": "code",
   "execution_count": 6,
   "metadata": {},
   "outputs": [],
   "source": [
    "# extract train/test target data from sample_total_data based on their indices.\n",
    "\n",
    "sample_train_index = train_index\n",
    "for i in range(1,20): # 20 outputs, except the first one is already included\n",
    "    sample_train_index = np.concatenate((sample_train_index, list(np.array(train_index) + n_total*i)))\n",
    "\n",
    "sample_test_index = test_index\n",
    "for i in range(1,20):\n",
    "    sample_test_index = np.concatenate((sample_test_index, list(np.array(test_index) + n_total*i)))\n",
    "\n",
    "assert sample_train_index.shape[0] == n_train*20\n",
    "assert sample_test_index.shape[0] == n_test*20\n",
    "assert np.isin(sample_train_index, sample_test_index).sum() == 0\n",
    "\n",
    "sample_train_data = sample_total_data[sample_train_index]\n",
    "sample_test_data = sample_total_data[sample_test_index]"
   ]
  },
  {
   "cell_type": "markdown",
   "metadata": {},
   "source": [
    "## Set up and train Model"
   ]
  },
  {
   "cell_type": "code",
   "execution_count": 7,
   "metadata": {},
   "outputs": [
    {
     "name": "stdout",
     "output_type": "stream",
     "text": [
      "variational_strategy.inducing_points_X torch.Size([30, 2])\n",
      "variational_strategy.inducing_points_C torch.Size([15, 1])\n",
      "variational_strategy._variational_distribution.variational_mean torch.Size([450])\n",
      "variational_strategy._variational_distribution.chol_variational_covar_X torch.Size([30, 30])\n",
      "variational_strategy._variational_distribution.chol_variational_covar_C torch.Size([15, 15])\n",
      "X.q_mu torch.Size([20, 2])\n",
      "X.q_log_sigma torch.Size([20, 2])\n",
      "covar_module_X.raw_outputscale torch.Size([])\n",
      "covar_module_X.base_kernel.raw_lengthscale torch.Size([1, 2])\n",
      "covar_module_C.raw_outputscale torch.Size([])\n",
      "covar_module_C.base_kernel.raw_lengthscale torch.Size([1, 1])\n",
      "---------------------------------------------\n",
      "noise_covar.raw_noise torch.Size([1])\n"
     ]
    },
    {
     "name": "stderr",
     "output_type": "stream",
     "text": [
      "Loss: 0.631, iter no: 1499: 100%|██████████| 1500/1500 [03:29<00:00,  7.17it/s]\n"
     ]
    }
   ],
   "source": [
    "# define hyper-parameters\n",
    "n_X = X_true.shape[0]\n",
    "n_C = C_train.shape[0] # also data_dim\n",
    "n_total = n_X * n_C\n",
    "index_dim = 1\n",
    "latent_dim = 2\n",
    "n_inducing_C = 15\n",
    "n_inducing_X = 30\n",
    "pca = False\n",
    "Y_train = sample_train_data\n",
    "\n",
    "C = C_train\n",
    "\n",
    "# specify model\n",
    "my_model = LVMOGP_SVI(n_X, n_C, index_dim, latent_dim, n_inducing_C, n_inducing_X, Y_train.reshape(n_X, -1), pca=pca)\n",
    "\n",
    "# Likelihood & training objective\n",
    "likelihood = GaussianLikelihood()\n",
    "mll = VariationalELBO(likelihood, my_model, num_data=n_total)\n",
    "\n",
    "# load in partially-trained model\n",
    "load_model = False\n",
    "load_likelihood = False\n",
    "if load_model:\n",
    "    model_path = '/Users/jiangxiaoyu/Desktop/All Projects/GPLVM_project_code/models/model_weights.pth'\n",
    "    state_dict = torch.load(model_path)\n",
    "    my_model.load_state_dict(state_dict)\n",
    "\n",
    "if load_likelihood:\n",
    "    likelihood_path = '/Users/jiangxiaoyu/Desktop/All Projects/GPLVM_project_code/models/likelihood_weights.pth'\n",
    "    state_dict = torch.load(likelihood_path)\n",
    "    likelihood.load_state_dict(state_dict)\n",
    "\n",
    "# optimizer and scheduler\n",
    "optimizer = torch.optim.Adam([\n",
    "    {'params': my_model.parameters()},\n",
    "    {'params': likelihood.parameters()} # likelihood parameter is fixed.\n",
    "], lr=0.03)\n",
    "\n",
    "scheduler = StepLR(optimizer, step_size=50, gamma=0.95)  # every 50 iterations，learning rate multiple 0.9\n",
    "\n",
    "# have a look at parameters\n",
    "for name, param in my_model.named_parameters():\n",
    "    print(name, param.size())\n",
    "\n",
    "print('---' * 15) \n",
    "for name, param in likelihood.named_parameters():\n",
    "    print(name, param.size())\n",
    "\n",
    "\n",
    "'''\n",
    "# change initialization of some parameters\n",
    "for name, param in my_model.named_parameters():\n",
    "    if 'covar_module_X.raw_outputscale' in name:\n",
    "        param.data = torch.tensor(0.49).to(param.device)\n",
    "    if 'covar_module_X.base_kernel.raw_lengthscale' in name:\n",
    "        param.data = torch.tensor([[0.5 for _ in range(latent_dim)]]).to(param.device)\n",
    "    if 'covar_module_C.raw_outputscale' in name:\n",
    "        param.data = torch.tensor(0.51).to(param.device)\n",
    "    if 'covar_module_C.base_kernel.raw_lengthscale' in name:\n",
    "        param.data = torch.tensor([[0.5 for _ in range(index_dim)]]).to(param.device)\n",
    "'''\n",
    "# whether fixing the likelihood noise\n",
    "# likelihood.noise_covar.raw_noise.data = torch.tensor([-0.01]).to(likelihood.noise_covar.raw_noise.device)\n",
    "\n",
    "\n",
    "# start training!\n",
    "loss_list = []\n",
    "n_iterations = 1500 # 10000\n",
    "iterator = trange(n_iterations, leave=True)\n",
    "batch_size_X = 20\n",
    "batch_size_C = 50\n",
    "model_max_grad_norm = 15\n",
    "likeli_max_grad_norm = 0.7\n",
    "\n",
    "\n",
    "my_model.train()\n",
    "for i in iterator: \n",
    "    batch_index_X, batch_index_C = proper_sample_index_X_and_C(my_model, batch_size_X, batch_size_C)\n",
    "    assert len(batch_index_X) == len(batch_index_C)\n",
    "    # core code is here \n",
    "    optimizer.zero_grad()\n",
    "    sample_X = my_model.sample_latent_variable()  # a full sample returns latent x across all n_X TODO: more efficient?\n",
    "    sample_batch_X = sample_X[batch_index_X]\n",
    "    sample_batch_C = C[batch_index_C]\n",
    "    output_batch = my_model(sample_batch_X, sample_batch_C) # q(f)\n",
    "    batch_index_Y = inhomogeneous_index_of_batch_Y(batch_index_X, batch_index_C, n_X, n_C)\n",
    "    loss = -mll(output_batch, Y_train[batch_index_Y]).sum()\n",
    "    loss_list.append(loss.item())\n",
    "    iterator.set_description('Loss: ' + str(float(np.round(loss.item(),3))) + \", iter no: \" + str(i))\n",
    "    loss.backward()\n",
    "\n",
    "    # Clip gradients\n",
    "    torch.nn.utils.clip_grad_norm_(my_model.parameters(), model_max_grad_norm)\n",
    "    torch.nn.utils.clip_grad_norm_(likelihood.parameters(), likeli_max_grad_norm)\n",
    "\n",
    "    optimizer.step()\n",
    "    scheduler.step()\n",
    "\n",
    "# print(loss_list)\n"
   ]
  },
  {
   "cell_type": "markdown",
   "metadata": {},
   "source": [
    "### Continue Training"
   ]
  },
  {
   "cell_type": "code",
   "execution_count": null,
   "metadata": {},
   "outputs": [],
   "source": [
    "'''\n",
    "my_model.train()\n",
    "n_iterations_2 = 1000\n",
    "iterator_2 = trange(n_iterations_2, leave=True)\n",
    "\n",
    "for i in iterator_2: \n",
    "    batch_index_X, batch_index_C = proper_sample_index_X_and_C(my_model, batch_size_X, batch_size_C)\n",
    "    assert len(batch_index_X) == len(batch_index_C)\n",
    "    # core code is here \n",
    "    optimizer.zero_grad()\n",
    "    sample_X = my_model.sample_latent_variable()  # a full sample returns latent x across all n_X TODO: more efficient?\n",
    "    sample_batch_X = sample_X[batch_index_X]\n",
    "    sample_batch_C = C[batch_index_C]\n",
    "    output_batch = my_model(sample_batch_X, sample_batch_C) # q(f)\n",
    "    batch_index_Y = inhomogeneous_index_of_batch_Y(batch_index_X, batch_index_C, n_X, n_C)\n",
    "    loss = -mll(output_batch, Y_train[batch_index_Y]).sum()\n",
    "    loss_list.append(loss.item())\n",
    "    iterator.set_description('Loss: ' + str(float(np.round(loss.item(),3))) + \", iter no: \" + str(i))\n",
    "    loss.backward()\n",
    "    optimizer.step()\n",
    "    scheduler.step()\n",
    "'''"
   ]
  },
  {
   "cell_type": "code",
   "execution_count": 8,
   "metadata": {},
   "outputs": [
    {
     "data": {
      "text/plain": [
       "[<matplotlib.lines.Line2D at 0x7fad2e7637f0>]"
      ]
     },
     "execution_count": 8,
     "metadata": {},
     "output_type": "execute_result"
    },
    {
     "data": {
      "image/png": "[encoded data removed]",
      "text/plain": [
       "<Figure size 640x480 with 1 Axes>"
      ]
     },
     "metadata": {},
     "output_type": "display_data"
    }
   ],
   "source": [
    "import matplotlib.pyplot as plt\n",
    "\n",
    "plt.plot(loss_list)"
   ]
  },
  {
   "cell_type": "code",
   "execution_count": 9,
   "metadata": {},
   "outputs": [
    {
     "name": "stdout",
     "output_type": "stream",
     "text": [
      "After Training, have a look at fitted kernel parameters...\n",
      "\n",
      "covar_module_X.raw_outputscale\n",
      "tensor(0.3367)\n",
      "\n",
      "\n",
      "covar_module_X.base_kernel.raw_lengthscale\n",
      "tensor([[0.2115, 0.2487]])\n",
      "\n",
      "\n",
      "covar_module_C.raw_outputscale\n",
      "tensor(0.3366)\n",
      "\n",
      "\n",
      "covar_module_C.base_kernel.raw_lengthscale\n",
      "tensor([[1.0599]])\n",
      "\n",
      "\n",
      "noise_covar.raw_noise\n",
      "tensor([-7.9726])\n",
      "\n",
      "\n"
     ]
    }
   ],
   "source": [
    "print('After Training, have a look at fitted kernel parameters...\\n')\n",
    "for name, param in my_model.named_parameters():\n",
    "    if 'covar_module_X.raw_outputscale' in name:\n",
    "        print(name)\n",
    "        print(param.data)\n",
    "        print('\\n')\n",
    "    if 'covar_module_X.base_kernel.raw_lengthscale' in name:\n",
    "        print(name)\n",
    "        print(param.data)\n",
    "        print('\\n')\n",
    "    if 'covar_module_C.raw_outputscale' in name:\n",
    "        print(name)\n",
    "        print(param.data)\n",
    "        print('\\n')\n",
    "    if 'covar_module_C.base_kernel.raw_lengthscale' in name:\n",
    "        print(name)\n",
    "        print(param.data)\n",
    "        print('\\n')\n",
    "    \n",
    "for name, param in likelihood.named_parameters():\n",
    "    print(name)\n",
    "    print(param.data)\n",
    "    print('\\n')"
   ]
  },
  {
   "cell_type": "code",
   "execution_count": null,
   "metadata": {},
   "outputs": [],
   "source": [
    "my_model.variational_strategy.inducing_points_C.data.shape"
   ]
  },
  {
   "cell_type": "markdown",
   "metadata": {},
   "source": [
    "## Testing"
   ]
  },
  {
   "cell_type": "code",
   "execution_count": null,
   "metadata": {},
   "outputs": [],
   "source": [
    "# prediction output for grid (total) inputs.\n",
    "my_model.eval()\n",
    "\n",
    "batch_size_X = 20\n",
    "batch_size_C = 700 # this number must equal to n_total = 700 !\n",
    "sample_X = my_model.X.q_mu # TODO: try other meaningful approaches\n",
    "\n",
    "batch_index_X = np.array([[i]*batch_size_C for i in range(batch_size_X)]).reshape(-1).tolist() \n",
    "batch_index_C = [i for i in range(batch_size_C)] * batch_size_X \n",
    "\n",
    "assert len(batch_index_X) == len(batch_index_C)\n",
    "\n",
    "sample_batch_X = sample_X[batch_index_X]\n",
    "sample_batch_C = C_total[batch_index_C]\n",
    "grid_output_batch = my_model(sample_batch_X, sample_batch_C) # q(f)"
   ]
  },
  {
   "cell_type": "markdown",
   "metadata": {},
   "source": [
    "### Train/Test data RMSE"
   ]
  },
  {
   "cell_type": "code",
   "execution_count": null,
   "metadata": {},
   "outputs": [],
   "source": [
    "train_data_predict = grid_output_batch.loc.detach()[sample_train_index]\n",
    "train_rmse = (train_data_predict - sample_train_data).square().mean().sqrt()\n",
    "print('Train RMSE', train_rmse)\n",
    "\n",
    "test_data_predict = grid_output_batch.loc.detach()[sample_test_index]\n",
    "test_rmse = (test_data_predict - sample_test_data).square().mean().sqrt()\n",
    "print('Test RMSE', test_rmse)"
   ]
  },
  {
   "cell_type": "markdown",
   "metadata": {},
   "source": [
    "### Visual Inspect"
   ]
  },
  {
   "cell_type": "code",
   "execution_count": null,
   "metadata": {},
   "outputs": [],
   "source": [
    "# Pick the index of the funtion to show\n",
    "multiplier = 7 # 0 - 19 (in total 20 output functions)\n",
    "\n",
    "train_input = C_train\n",
    "train_start = train_input.shape[0] * multiplier\n",
    "train_end = train_start + train_input.shape[0]\n",
    "train_target = sample_train_data[train_start:train_end]\n",
    "\n",
    "\n",
    "test_input = C_test\n",
    "test_start = test_input.shape[0] * multiplier\n",
    "test_end = test_start + test_input.shape[0]\n",
    "test_target = sample_test_data[test_start:test_end]\n",
    "\n",
    "gp_input = C_total\n",
    "gp_start = gp_input.shape[0] * multiplier\n",
    "gp_end = gp_start + gp_input.shape[0]\n",
    "gp_target = sample_total_data[gp_start:gp_end]\n",
    "\n",
    "gp_pred_mean = grid_output_batch.loc.detach()[gp_start:gp_end]\n",
    "gp_pred_std = grid_output_batch.stddev.detach()[gp_start:gp_end]"
   ]
  },
  {
   "cell_type": "code",
   "execution_count": null,
   "metadata": {},
   "outputs": [],
   "source": [
    "plot_traindata_testdata_fittedgp(train_X=train_input, train_Y=train_target, test_X=test_input, test_Y=test_target, gp_X=gp_input, gp_pred_mean=gp_pred_mean, gp_pred_std=gp_pred_std, inducing_points_X=my_model.variational_strategy.inducing_points_C.detach(), n_inducing_C=n_inducing_C) # NOTE: input is C not X"
   ]
  },
  {
   "cell_type": "markdown",
   "metadata": {},
   "source": [
    "### True v.s. Fitted latent variables"
   ]
  },
  {
   "cell_type": "code",
   "execution_count": null,
   "metadata": {},
   "outputs": [],
   "source": [
    "plot_true_and_fitted_latent(X_true, my_model.X.q_mu.detach(), torch.nn.functional.softplus(my_model.X.q_log_sigma.detach()))"
   ]
  },
  {
   "cell_type": "code",
   "execution_count": null,
   "metadata": {},
   "outputs": [],
   "source": []
  }
 ],
 "metadata": {
  "interpreter": {
   "hash": "900912d398d5ee9550764b57e1f594cb79a91891ca87d5ef35ee62b20f4dd5b3"
  },
  "kernelspec": {
   "display_name": "Python 3.9.17 ('GPLVM')",
   "language": "python",
   "name": "python3"
  },
  "language_info": {
   "codemirror_mode": {
    "name": "ipython",
    "version": 3
   },
   "file_extension": ".py",
   "mimetype": "text/x-python",
   "name": "python",
   "nbconvert_exporter": "python",
   "pygments_lexer": "ipython3",
   "version": "3.9.17"
  },
  "orig_nbformat": 4
 },
 "nbformat": 4,
 "nbformat_minor": 2
}
