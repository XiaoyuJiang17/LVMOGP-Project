{
 "cells": [
  {
   "cell_type": "code",
   "execution_count": null,
   "metadata": {},
   "outputs": [],
   "source": [
    "import mnist\n",
    "from torch import Tensor\n",
    "import torch\n",
    "\n",
    "# all available training data\n",
    "print(Tensor(mnist.train_images()).shape)"
   ]
  },
  {
   "cell_type": "code",
   "execution_count": null,
   "metadata": {},
   "outputs": [],
   "source": [
    "# load in data\n",
    "mnist_training_data = Tensor(mnist.train_images()[:2000])\n",
    "normalized_mnist_training_data = (mnist_training_data) / 255\n",
    "mnist_label_data = Tensor(mnist.train_labels()[:2000])"
   ]
  },
  {
   "cell_type": "code",
   "execution_count": null,
   "metadata": {},
   "outputs": [],
   "source": [
    "# load in model\n",
    "from lvmogp_svi import LVMOGP_SVI\n",
    "# define hyper-parameters\n",
    "n_X = mnist_training_data.shape[0]\n",
    "n_C = int(mnist_training_data.shape[-2]*mnist_training_data.shape[-1]) # also data_dim\n",
    "n_total = n_X * n_C\n",
    "index_dim = 2\n",
    "latent_dim = 20\n",
    "n_inducing_C = 30\n",
    "n_inducing_X = 50\n",
    "pca = True\n",
    "Y_train = mnist_training_data.reshape(-1)\n",
    "\n",
    "forbidden_pairs = [(2, 18), (2, 79), (7, 183), (8, 201), (5,23), (6, 99), (0,3), (7, 139), (8, 143), (5, 34)]\n",
    "\n",
    "# specify model\n",
    "my_model = LVMOGP_SVI(n_X, n_C, index_dim, latent_dim, n_inducing_C, n_inducing_X, Y_train.reshape(n_X, -1), pca=pca)\n",
    "\n",
    "model_path = '/Users/jiangxiaoyu/Desktop/All Projects/GPLVM_project_code/models/model_weights2.pth'\n",
    "state_dict = torch.load(model_path)\n",
    "my_model.load_state_dict(state_dict)\n",
    "\n",
    "my_model.eval()"
   ]
  },
  {
   "cell_type": "code",
   "execution_count": null,
   "metadata": {},
   "outputs": [],
   "source": [
    "length_scale = [param.detach() for name, param in my_model.named_parameters() if name.startswith('covar_module_X')]\n",
    "inverse_length_scale = (1 / length_scale[-1])[0]\n",
    "print(inverse_length_scale)"
   ]
  },
  {
   "cell_type": "code",
   "execution_count": null,
   "metadata": {},
   "outputs": [],
   "source": [
    "values, indices = torch.sort(inverse_length_scale, descending=True)\n",
    "print(indices)"
   ]
  },
  {
   "cell_type": "code",
   "execution_count": null,
   "metadata": {},
   "outputs": [],
   "source": [
    "latents_2d = my_model.X.q_mu.detach()[:, indices[:2]]"
   ]
  },
  {
   "cell_type": "code",
   "execution_count": null,
   "metadata": {},
   "outputs": [],
   "source": [
    "print(latents_2d.shape)\n",
    "print(mnist_label_data.shape)"
   ]
  },
  {
   "cell_type": "code",
   "execution_count": null,
   "metadata": {},
   "outputs": [],
   "source": [
    "import torch\n",
    "import matplotlib.pyplot as plt\n",
    "\n",
    "unique_labels = torch.unique(mnist_label_data)\n",
    "\n",
    "plt.figure(figsize=(10, 8))\n",
    "\n",
    "for label in unique_labels:\n",
    "    mask = mnist_label_data == label\n",
    "    subset = latents_2d[mask]\n",
    "    \n",
    "    plt.scatter(subset[:, 0], subset[:, 1], label=str(label.item()))\n",
    "\n",
    "plt.legend()\n",
    "plt.show()"
   ]
  },
  {
   "cell_type": "code",
   "execution_count": null,
   "metadata": {},
   "outputs": [],
   "source": [
    "# V1\n",
    "from locale import normalize\n",
    "import mnist\n",
    "import numpy as np\n",
    "import torch\n",
    "from torch import Tensor\n",
    "from lvmogp_svi import LVMOGP_SVI\n",
    "from gaussian_likelihood import GaussianLikelihood\n",
    "from variational_elbo import VariationalELBO\n",
    "from tqdm import trange\n",
    "from torch.optim.lr_scheduler import StepLR\n",
    "from util_functions import remove_forbidden_pairs, inhomogeneous_index_of_batch_Y, proper_sample_index_X_and_C, random_sample_index_X_and_C, tidily_sample_index_X_and_C\n",
    "\n",
    "# load in mnist data (scale 0-255)\n",
    "mnist_training_data = Tensor(mnist.train_images()[:2000])\n",
    "mnist_testing_data = Tensor(mnist.test_images())\n",
    "\n",
    "# train_mean = mnist_training_data.mean()\n",
    "# train_std = mnist_training_data.std()\n",
    "\n",
    "normalized_mnist_training_data = (mnist_training_data) / 255\n",
    "normalized_mnist_testing_data = (mnist_testing_data) / 255\n",
    "\n",
    "print('training data shape', mnist_training_data.shape)\n",
    "\n",
    "# define hyper-parameters\n",
    "n_X = normalized_mnist_training_data.shape[0]\n",
    "n_C = int(normalized_mnist_training_data.shape[-2]*normalized_mnist_training_data.shape[-1]) # also data_dim\n",
    "n_total = n_X * n_C\n",
    "index_dim = 2\n",
    "latent_dim = 20\n",
    "n_inducing_C = 30\n",
    "n_inducing_X = 50\n",
    "pca = True\n",
    "Y_train = normalized_mnist_training_data.reshape(-1)\n",
    "Y_test  = normalized_mnist_testing_data.reshape(-1)\n",
    "\n",
    "C = np.empty((28, 28, 2), dtype=int)\n",
    "for i in range(28):\n",
    "    for j in range(28):\n",
    "        C[i, j] = [i, j]\n",
    "\n",
    "C = Tensor(C.reshape(-1,2))\n",
    "\n",
    "forbidden_pairs = [(2, 18), (2, 79), (7, 183), (8, 201), (5,23), (6, 99), (0,3), (7, 139), (8, 143), (5, 34)]\n",
    "\n",
    "# specify model\n",
    "my_model = LVMOGP_SVI(n_X, n_C, index_dim, latent_dim, n_inducing_C, n_inducing_X, Y_train.reshape(n_X, -1), pca=pca)\n",
    "\n",
    "# load in partially-trained model\n",
    "load_model = False\n",
    "if load_model:\n",
    "    model_path = '/Users/jiangxiaoyu/Desktop/All Projects/GPLVM_project_code/models/model_weights.pth'\n",
    "    state_dict = torch.load(model_path)\n",
    "    my_model.load_state_dict(state_dict)\n",
    "\n",
    "# Likelihood & training objective\n",
    "likelihood = GaussianLikelihood() # how many outputs, \n",
    "mll = VariationalELBO(likelihood, my_model, num_data=n_total)\n",
    "\n",
    "# optimizer and scheduler\n",
    "optimizer = torch.optim.Adam([\n",
    "    {'params': my_model.parameters()},\n",
    "    {'params': likelihood.parameters()}\n",
    "], lr=0.001)\n",
    "\n",
    "scheduler = StepLR(optimizer, step_size=50, gamma=0.9)  # every 50 iterations，learning rate multiple 0.9\n",
    "\n",
    "# look at parameters\n",
    "for name, param in my_model.named_parameters():\n",
    "    print(name, param.size())\n",
    "\n",
    "print('---' * 15) \n",
    "for name, param in likelihood.named_parameters():\n",
    "    print(name, param.size())"
   ]
  },
  {
   "cell_type": "code",
   "execution_count": 1,
   "metadata": {},
   "outputs": [],
   "source": [
    "import numpy as np\n",
    "from torch import Tensor\n",
    "\n",
    "C = np.empty((28, 28, 2), dtype=int)\n",
    "for i in range(28):\n",
    "    for j in range(28):\n",
    "        C[i, j] = [i, j]\n",
    "\n",
    "C = Tensor(C.reshape(-1,2))\n",
    "\n",
    "from util_functions import proper_gene_forbidden_pairs, tidily_gene_forbidden_pairs\n",
    "forbidden_list = tidily_gene_forbidden_pairs(n_X=5, n_C=28*28, num_forbidden=3)"
   ]
  },
  {
   "cell_type": "code",
   "execution_count": 1,
   "metadata": {},
   "outputs": [],
   "source": [
    "from util_functions import *\n",
    "first_elem_list, second_elem_list = extract_tuple_elements('/Users/jiangxiaoyu/Desktop/All Projects/GPLVM_project_code/experi_results/forbidden_pairs.csv')"
   ]
  },
  {
   "cell_type": "code",
   "execution_count": 10,
   "metadata": {},
   "outputs": [
    {
     "name": "stdout",
     "output_type": "stream",
     "text": [
      "torch.Size([784, 2])\n",
      "torch.Size([35, 2])\n"
     ]
    }
   ],
   "source": [
    "import torch\n",
    "from util_functions import *\n",
    "\n",
    "C = gene_2dimage_inputs()\n",
    "print(C.shape)\n",
    "\n",
    "n_inducing_C = 35\n",
    "selected_indices = torch.randperm(C.shape[0])[:n_inducing_C]\n",
    "print(C[selected_indices].shape)"
   ]
  },
  {
   "cell_type": "code",
   "execution_count": null,
   "metadata": {},
   "outputs": [],
   "source": []
  }
 ],
 "metadata": {
  "interpreter": {
   "hash": "900912d398d5ee9550764b57e1f594cb79a91891ca87d5ef35ee62b20f4dd5b3"
  },
  "kernelspec": {
   "display_name": "Python 3.9.17 ('GPLVM')",
   "language": "python",
   "name": "python3"
  },
  "language_info": {
   "codemirror_mode": {
    "name": "ipython",
    "version": 3
   },
   "file_extension": ".py",
   "mimetype": "text/x-python",
   "name": "python",
   "nbconvert_exporter": "python",
   "pygments_lexer": "ipython3",
   "version": "3.9.17"
  },
  "orig_nbformat": 4
 },
 "nbformat": 4,
 "nbformat_minor": 2
}
