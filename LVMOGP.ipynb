{
 "cells": [
  {
   "cell_type": "markdown",
   "metadata": {},
   "source": [
    "## Synthetic Data"
   ]
  },
  {
   "cell_type": "code",
   "execution_count": 1,
   "metadata": {},
   "outputs": [
    {
     "data": {
      "text/plain": [
       "'\\nfor i in range(Y.shape[1]):\\n    plt.plot(X, noise_free_samples[i], label=f\"Output {i+1}\")\\nplt.legend()\\nplt.title(\"noise_free_samples from LVMOGP\")\\nplt.show()\\n'"
      ]
     },
     "execution_count": 1,
     "metadata": {},
     "output_type": "execute_result"
    }
   ],
   "source": [
    "import numpy as np\n",
    "from scipy.linalg import kron\n",
    "import matplotlib.pyplot as plt\n",
    "\n",
    "def rbf_kernel(x, y, sigma=1.0):\n",
    "    \"\"\"Compute the RBF kernel between two high-dimensional vectors.\"\"\"\n",
    "    distance_squared = np.sum((x - y) ** 2)\n",
    "    return np.exp(-distance_squared / (2 * sigma ** 2))\n",
    "\n",
    "# Create the covariance matrices\n",
    "def create_cov_matrices(X, H, kernel_func):\n",
    "    K_X = np.array([[kernel_func(x_i, x_j) for x_j in X] for x_i in X])\n",
    "    K_H = np.array([[kernel_func(h_i, h_j) for h_j in H] for h_i in H])\n",
    "    return K_X, K_H\n",
    "\n",
    "# Generate samples\n",
    "def sample_gp(X, H, kernel_func):\n",
    "    K_X, K_H = create_cov_matrices(X, H, kernel_func)\n",
    "    K = kron(K_H, K_X)\n",
    "    mean = np.zeros(len(X) * len(H))\n",
    "    return np.random.multivariate_normal(mean, K).reshape(len(H), len(X))\n",
    "\n",
    "# Define input space and latent space\n",
    "X = np.linspace(-100, 100, 100)                             # N=100\n",
    "H = np.random.multivariate_normal([0, 0], np.eye(2), (20,)) # D=20\n",
    "# Sample from the GP\n",
    "noise_free_samples = sample_gp(X, H, rbf_kernel)\n",
    "eps = 1e-4\n",
    "\n",
    "# Sample with noise\n",
    "Y = noise_free_samples.T + np.random.randn(noise_free_samples.T.shape[0],noise_free_samples.T.shape[1]) * eps # N * D\n",
    "\n",
    "# Reshape X\n",
    "X = X.reshape(-1,1)\n",
    "\n",
    "# Plot the samples\n",
    "'''\n",
    "for i in range(Y.shape[1]):\n",
    "    plt.plot(X, noise_free_samples[i], label=f\"Output {i+1}\")\n",
    "plt.legend()\n",
    "plt.title(\"noise_free_samples from LVMOGP\")\n",
    "plt.show()\n",
    "'''"
   ]
  },
  {
   "cell_type": "markdown",
   "metadata": {},
   "source": [
    "1. GPy/__init__ 中注释了from numpy.testing import Tester"
   ]
  },
  {
   "cell_type": "code",
   "execution_count": 2,
   "metadata": {},
   "outputs": [
    {
     "name": "stdout",
     "output_type": "stream",
     "text": [
      "Intializing with GP...\n",
      "Fit Sparse GP...\n",
      "Fit BGPLVM...\n",
      "Done.\n"
     ]
    }
   ],
   "source": [
    "import GPy as GPy\n",
    "from GPy.models.gp_multiout_regression import GPMultioutRegression\n",
    "\n",
    "MyLVMOGP = GPMultioutRegression(X=X, Y=Y, Xr_dim=2, num_inducing=(10,3), init='GP', name='LVMODP_v1')"
   ]
  },
  {
   "cell_type": "code",
   "execution_count": 3,
   "metadata": {},
   "outputs": [
    {
     "data": {
      "text/plain": [
       "['inducing inputs',\n",
       " 'rbf.variance',\n",
       " 'rbf.lengthscale',\n",
       " 'Gaussian_noise.variance',\n",
       " 'kern_row.variance',\n",
       " 'kern_row.lengthscale',\n",
       " 'Xr.mean',\n",
       " 'Xr.variance',\n",
       " 'Zr',\n",
       " 'qU_mean',\n",
       " 'qU_var_col_W',\n",
       " 'qU_var_col_diag',\n",
       " 'qU_var_row_W',\n",
       " 'qU_var_row_diag']"
      ]
     },
     "execution_count": 3,
     "metadata": {},
     "output_type": "execute_result"
    }
   ],
   "source": [
    "MyLVMOGP.parameter_names()"
   ]
  },
  {
   "cell_type": "code",
   "execution_count": 20,
   "metadata": {},
   "outputs": [
    {
     "data": {
      "text/plain": [
       "<paramz.core.index_operations.ParameterIndexOperations at 0x7f792fcddc40>"
      ]
     },
     "execution_count": 20,
     "metadata": {},
     "output_type": "execute_result"
    }
   ],
   "source": [
    "MyLVMOGP"
   ]
  },
  {
   "cell_type": "code",
   "execution_count": null,
   "metadata": {},
   "outputs": [],
   "source": [
    "MyLVMOGP.optimization_runs"
   ]
  },
  {
   "cell_type": "code",
   "execution_count": null,
   "metadata": {},
   "outputs": [],
   "source": []
  }
 ],
 "metadata": {
  "interpreter": {
   "hash": "900912d398d5ee9550764b57e1f594cb79a91891ca87d5ef35ee62b20f4dd5b3"
  },
  "kernelspec": {
   "display_name": "Python 3.9.17 ('GPLVM')",
   "language": "python",
   "name": "python3"
  },
  "language_info": {
   "codemirror_mode": {
    "name": "ipython",
    "version": 3
   },
   "file_extension": ".py",
   "mimetype": "text/x-python",
   "name": "python",
   "nbconvert_exporter": "python",
   "pygments_lexer": "ipython3",
   "version": "3.9.17"
  },
  "orig_nbformat": 4
 },
 "nbformat": 4,
 "nbformat_minor": 2
}
