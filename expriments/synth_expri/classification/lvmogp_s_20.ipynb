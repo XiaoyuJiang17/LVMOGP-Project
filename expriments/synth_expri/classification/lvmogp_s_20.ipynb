{
 "cells": [
  {
   "cell_type": "markdown",
   "metadata": {},
   "source": [
    "## Single-output 20 class classification with synthetic dataset"
   ]
  },
  {
   "cell_type": "code",
   "execution_count": 1,
   "metadata": {},
   "outputs": [],
   "source": [
    "from torch import Tensor\n",
    "### import Necessary packages\n",
    "import sys\n",
    "sys.path.append('/Users/jiangxiaoyu/Desktop/All Projects/GPLVM_project_code/')\n",
    "from models_.lvmogp_svi import LVMOGP_SVI\n",
    "from models_.variational_elbo import ClfVariationalELBO\n",
    "from models_.momc_ar_likelihood import Multi_Output_Multi_Class_AR_Likelihood\n",
    "import torch\n",
    "from torch.optim.lr_scheduler import StepLR, CyclicLR\n",
    "from tqdm import trange\n",
    "import random\n",
    "import numpy as np\n",
    "import time\n",
    "from util_functions import *\n",
    "from typing import List, Dict\n",
    "from sklearn.metrics import precision_score, recall_score, f1_score\n"
   ]
  },
  {
   "cell_type": "code",
   "execution_count": 2,
   "metadata": {},
   "outputs": [],
   "source": [
    "### Copy from chunchao's code...\n",
    "from sklearn.datasets import make_classification as mc\n",
    "\n",
    "X1, Y1 = mc(n_samples=2000, n_classes=20, n_features=5, n_redundant=0, n_informative=5, n_clusters_per_class=1,\n",
    "                    random_state=1)\n",
    "X = X1.copy()\n",
    "Y = Y1[:, None].copy()"
   ]
  },
  {
   "cell_type": "code",
   "execution_count": 3,
   "metadata": {},
   "outputs": [],
   "source": [
    "train_test_split = 1300\n",
    "X_train, X_test = Tensor(X[:train_test_split]), Tensor(X[train_test_split:])\n",
    "Y_train, Y_test = Tensor(Y[:train_test_split]), Tensor(Y[train_test_split:])"
   ]
  },
  {
   "cell_type": "code",
   "execution_count": 4,
   "metadata": {},
   "outputs": [
    {
     "name": "stdout",
     "output_type": "stream",
     "text": [
      "The number of classes: 20\n",
      "The number of train data samples: 1300\n",
      "The number of test data samples: 700\n",
      "The number of features: 5\n"
     ]
    }
   ],
   "source": [
    "print('The number of classes:', Y.max() - Y.min() + 1)\n",
    "print('The number of train data samples:' , X_train.shape[0])\n",
    "print('The number of test data samples:' , X_test.shape[0])\n",
    "print('The number of features:', X_train.shape[-1])"
   ]
  },
  {
   "cell_type": "code",
   "execution_count": 5,
   "metadata": {},
   "outputs": [],
   "source": [
    "# Define hyperparameters\n",
    "\n",
    "clf_list = [20]\n",
    "# NOTE\n",
    "# len(clf_list) the total number of outputs\n",
    "# clf_list[i] the number of classes for (i+1)th output\n",
    "n_outputs = len(clf_list) # =1 in this ipynb file, only one output\n",
    "n_latent = int(Tensor(clf_list).sum()) # NOTE n_outputs != n_latent for general cases\n",
    "n_inputs = int(X_train.shape[0])\n",
    "index_dim = X_train.shape[-1] # this is 5\n",
    "latent_dim = 2\n",
    "n_inducing_inputs = 10\n",
    "n_inducing_latent = 3\n",
    "pca = False # Think carefully when setting this to True\n",
    "n_total= n_outputs * n_inputs\n",
    "\n",
    "# Model Training Related Hyper-parameters ... \n",
    "n_train_iterations = 200 # 1000\n",
    "learning_rate = 0.5\n",
    "schduler_step_size = 50\n",
    "schduler_gamma = 0.9\n",
    "num_latent_MC = 3\n",
    "\n",
    "num_class_per_output = 10\n",
    "num_input_samples = 300"
   ]
  },
  {
   "cell_type": "code",
   "execution_count": 6,
   "metadata": {},
   "outputs": [],
   "source": [
    "# Specify model, likelihood and training objective.\n",
    "my_model = LVMOGP_SVI(n_X=n_latent, n_C=n_inputs, index_dim=index_dim, latent_dim=latent_dim, n_inducing_C=n_inducing_inputs, n_inducing_X=n_inducing_latent, data_Y=None, pca=pca)\n",
    "likelihood = Multi_Output_Multi_Class_AR_Likelihood(clf_list)\n",
    "mll = ClfVariationalELBO(likelihood, my_model, num_data=n_total)\n",
    "\n",
    "# Optimizer and Scheduler\n",
    "optimizer = torch.optim.Adam([ # TODO: tune the choice of optimizer: SGD...\n",
    "    {'params': my_model.parameters()}], lr=learning_rate)\n",
    "\n",
    "# scheduler = CyclicLR(optimizer, base_lr=0.01, max_lr=0.5, step_size_up=20, mode='triangular', cycle_momentum=False)\n",
    "scheduler = StepLR(optimizer, step_size=schduler_step_size, gamma=schduler_gamma)"
   ]
  },
  {
   "cell_type": "markdown",
   "metadata": {},
   "source": [
    "## Initialization"
   ]
  },
  {
   "cell_type": "code",
   "execution_count": 7,
   "metadata": {},
   "outputs": [
    {
     "name": "stdout",
     "output_type": "stream",
     "text": [
      "variational_strategy.inducing_points_X torch.Size([3, 2])\n",
      "variational_strategy.inducing_points_C torch.Size([10, 5])\n",
      "variational_strategy._variational_distribution.variational_mean torch.Size([30])\n",
      "variational_strategy._variational_distribution.chol_variational_covar_X torch.Size([3, 3])\n",
      "variational_strategy._variational_distribution.chol_variational_covar_C torch.Size([10, 10])\n",
      "X.q_mu torch.Size([20, 2])\n",
      "X.q_log_sigma torch.Size([20, 2])\n",
      "covar_module_X.raw_outputscale torch.Size([])\n",
      "covar_module_X.base_kernel.raw_lengthscale torch.Size([1, 2])\n",
      "covar_module_C.raw_outputscale torch.Size([])\n",
      "covar_module_C.base_kernel.raw_lengthscale torch.Size([1, 5])\n"
     ]
    }
   ],
   "source": [
    "for name, param in my_model.named_parameters():\n",
    "    print(name, param.size())"
   ]
  },
  {
   "cell_type": "code",
   "execution_count": 8,
   "metadata": {},
   "outputs": [
    {
     "name": "stdout",
     "output_type": "stream",
     "text": [
      "have a look at pre-trained model parameters ... \n"
     ]
    }
   ],
   "source": [
    "print('have a look at pre-trained model parameters ... ')\n",
    "\n",
    "# print('inducing_points_X', my_model.variational_strategy.inducing_points_X.detach())\n",
    "# print('inducing_points_C', my_model.variational_strategy.inducing_points_C.detach())\n",
    "# print('X q_mu', my_model.X.q_mu.detach())\n",
    "# print('X q_sigma', my_model.X.q_log_sigma.detach().exp()**2)\n",
    "# print('variational mean', my_model.variational_strategy._variational_distribution.variational_mean.detach())\n",
    "# print('variational chol X', my_model.variational_strategy._variational_distribution.chol_variational_covar_X.detach())\n",
    "# print('variational chol C', my_model.variational_strategy._variational_distribution.chol_variational_covar_C.detach())\n",
    "# print('covar_module_X outputscale', my_model.covar_module_X.outputscale.detach())\n",
    "# print('covar_module_X base_kernel lengthscale', my_model.covar_module_X.base_kernel.lengthscale.detach())\n",
    "# print('covar_module_C outputscale', my_model.covar_module_C.outputscale.detach())\n",
    "# print('covar_module_C base_kernel lengthscale', my_model.covar_module_C.base_kernel.lengthscale.detach())"
   ]
  },
  {
   "cell_type": "code",
   "execution_count": 9,
   "metadata": {},
   "outputs": [
    {
     "data": {
      "text/plain": [
       "'\\n# Randomly pick samples in X_train as initialization of inducing_points_C in my_model ... \\nrandom_idx = torch.randint(0, n_inputs, (n_inducing_inputs,))\\nmy_model.variational_strategy.inducing_points_C.data = X_train[random_idx]\\n\\n# print(my_model.covar_module_C.raw_outputscale.requires_grad)\\n'"
      ]
     },
     "execution_count": 9,
     "metadata": {},
     "output_type": "execute_result"
    }
   ],
   "source": [
    "'''\n",
    "# Randomly pick samples in X_train as initialization of inducing_points_C in my_model ... \n",
    "random_idx = torch.randint(0, n_inputs, (n_inducing_inputs,))\n",
    "my_model.variational_strategy.inducing_points_C.data = X_train[random_idx]\n",
    "\n",
    "# print(my_model.covar_module_C.raw_outputscale.requires_grad)\n",
    "'''"
   ]
  },
  {
   "cell_type": "markdown",
   "metadata": {},
   "source": [
    "## Training"
   ]
  },
  {
   "cell_type": "code",
   "execution_count": 10,
   "metadata": {},
   "outputs": [
    {
     "name": "stderr",
     "output_type": "stream",
     "text": [
      "Loss: 0.34, iter no: 199: 100%|██████████| 200/200 [04:50<00:00,  1.45s/it]\n"
     ]
    }
   ],
   "source": [
    "# Training!\n",
    "loss_list = []\n",
    "iterator = trange(n_train_iterations, leave=True)\n",
    "\n",
    "my_model.train()\n",
    "for i in iterator: \n",
    "    batch_index_latent, batch_index_inputs = clf_sample_f_index_everyoutput(my_model, clf_list, Y_train, num_class_per_output=num_class_per_output, num_input_samples=num_input_samples)\n",
    "    # core code is here \n",
    "    optimizer.zero_grad()\n",
    "    total_loss = 0\n",
    "    for _ in range(num_latent_MC):\n",
    "        sample_latent = my_model.sample_latent_variable(batch_index_latent) \n",
    "        sample_inputs = X_train[batch_index_inputs]\n",
    "        output_batch = my_model(sample_latent.reshape(-1,latent_dim), sample_inputs.reshape(-1,index_dim)) # q(f)\n",
    "        loss = -mll(output_batch, ref=batch_index_latent)\n",
    "        total_loss += loss\n",
    "    \n",
    "    average_loss = total_loss / num_latent_MC\n",
    "    loss_list.append(average_loss.item())\n",
    "    iterator.set_description('Loss: ' + str(float(np.round(average_loss.item(),2))) + \", iter no: \" + str(i))\n",
    "    average_loss.backward()\n",
    "        \n",
    "    # Gradient Clipping. Try Many Different Approaches.\n",
    "    gradient_clip(my_model, approach='Global Norm Clipping', clip_value=5)\n",
    "    # gradient_clip(likelihood, clip_value=1)\n",
    "    \n",
    "    optimizer.step()\n",
    "    scheduler.step()"
   ]
  },
  {
   "cell_type": "code",
   "execution_count": 11,
   "metadata": {},
   "outputs": [
    {
     "data": {
      "text/plain": [
       "[<matplotlib.lines.Line2D at 0x7f8805f6efd0>]"
      ]
     },
     "execution_count": 11,
     "metadata": {},
     "output_type": "execute_result"
    },
    {
     "data": {
      "image/png": "[encoded data removed]",
      "text/plain": [
       "<Figure size 640x480 with 1 Axes>"
      ]
     },
     "metadata": {},
     "output_type": "display_data"
    }
   ],
   "source": [
    "import matplotlib.pyplot as plt\n",
    "\n",
    "plt.plot(loss_list)"
   ]
  },
  {
   "cell_type": "code",
   "execution_count": 12,
   "metadata": {},
   "outputs": [],
   "source": [
    "# print(' have a look at after-trained model parameters ... ')\n",
    "\n",
    "# print('inducing_points_X', my_model.variational_strategy.inducing_points_X.detach())\n",
    "# print('inducing_points_C', my_model.variational_strategy.inducing_points_C.detach())\n",
    "# print('X q_mu', my_model.X.q_mu.detach())\n",
    "# print('X q_sigma', my_model.X.q_log_sigma.detach().exp()**2)\n",
    "# print('variational mean', my_model.variational_strategy._variational_distribution.variational_mean.detach())\n",
    "# print('variational chol X', my_model.variational_strategy._variational_distribution.chol_variational_covar_X.detach())\n",
    "# print('variational chol C', my_model.variational_strategy._variational_distribution.chol_variational_covar_C.detach())\n",
    "# print('covar_module_X outputscale', my_model.covar_module_X.outputscale.detach())\n",
    "# print('covar_module_X base_kernel lengthscale', my_model.covar_module_X.base_kernel.lengthscale.detach())\n",
    "# print('covar_module_C outputscale', my_model.covar_module_C.outputscale.detach())\n",
    "# print('covar_module_C base_kernel lengthscale', my_model.covar_module_C.base_kernel.lengthscale.detach())"
   ]
  },
  {
   "cell_type": "markdown",
   "metadata": {},
   "source": [
    "## Testing"
   ]
  },
  {
   "cell_type": "code",
   "execution_count": 13,
   "metadata": {},
   "outputs": [],
   "source": [
    "# my_model.X.q_mu.detach()\n",
    "# my_model.X.q_log_sigma.detach().exp()"
   ]
  },
  {
   "cell_type": "code",
   "execution_count": 14,
   "metadata": {},
   "outputs": [
    {
     "data": {
      "text/plain": [
       "\"\\nfor name, param in my_model.named_parameters():\\n    if 'variational_strategy.inducing' in name:\\n        print(name, param.size())\\n        print(param)\\n\""
      ]
     },
     "execution_count": 14,
     "metadata": {},
     "output_type": "execute_result"
    }
   ],
   "source": [
    "'''\n",
    "for name, param in my_model.named_parameters():\n",
    "    if 'variational_strategy.inducing' in name:\n",
    "        print(name, param.size())\n",
    "        print(param)\n",
    "'''"
   ]
  },
  {
   "cell_type": "code",
   "execution_count": 15,
   "metadata": {},
   "outputs": [],
   "source": [
    "all_outputs_prob_mean, all_outputs_prob_var, all_outputs_decisions, all_outputs_decisions_var = MOMOC_predict(my_model, X_train, clf_list)"
   ]
  },
  {
   "cell_type": "code",
   "execution_count": 16,
   "metadata": {},
   "outputs": [
    {
     "data": {
      "text/plain": [
       "tensor(0.0485)"
      ]
     },
     "execution_count": 16,
     "metadata": {},
     "output_type": "execute_result"
    }
   ],
   "source": [
    "(1.0 * (all_outputs_decisions == Y_train)).mean()"
   ]
  },
  {
   "cell_type": "code",
   "execution_count": 17,
   "metadata": {},
   "outputs": [],
   "source": [
    "eval_results = MOMC_classification_eval(all_outputs_decisions, Y_train)"
   ]
  },
  {
   "cell_type": "code",
   "execution_count": 18,
   "metadata": {},
   "outputs": [
    {
     "data": {
      "text/plain": [
       "{'Precision_Weighted': [0.04842419091652776],\n",
       " 'Recall_Weighted': [0.04846153846153846],\n",
       " 'F1_Weighted': [0.048221101569761934]}"
      ]
     },
     "execution_count": 18,
     "metadata": {},
     "output_type": "execute_result"
    }
   ],
   "source": [
    "eval_results"
   ]
  },
  {
   "cell_type": "code",
   "execution_count": null,
   "metadata": {},
   "outputs": [],
   "source": []
  }
 ],
 "metadata": {
  "kernelspec": {
   "display_name": "GPLVM",
   "language": "python",
   "name": "python3"
  },
  "language_info": {
   "codemirror_mode": {
    "name": "ipython",
    "version": 3
   },
   "file_extension": ".py",
   "mimetype": "text/x-python",
   "name": "python",
   "nbconvert_exporter": "python",
   "pygments_lexer": "ipython3",
   "version": "3.9.17"
  }
 },
 "nbformat": 4,
 "nbformat_minor": 2
}
