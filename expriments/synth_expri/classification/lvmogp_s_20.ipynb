{
 "cells": [
  {
   "cell_type": "markdown",
   "metadata": {},
   "source": [
    "## Single-output 20 class classification with synthetic dataset"
   ]
  },
  {
   "cell_type": "code",
   "execution_count": 24,
   "metadata": {},
   "outputs": [],
   "source": [
    "from torch import Tensor\n",
    "### import Necessary packages\n",
    "import sys\n",
    "sys.path.append('/Users/jiangxiaoyu/Desktop/All Projects/GPLVM_project_code/')\n",
    "from models_.lvmogp_svi import LVMOGP_SVI\n",
    "from models_.variational_elbo import ClfVariationalELBO\n",
    "from models_.momc_ar_likelihood import Multi_Output_Multi_Class_AR_Likelihood\n",
    "import torch\n",
    "from torch.optim.lr_scheduler import StepLR, CyclicLR\n",
    "from tqdm import trange\n",
    "import random\n",
    "import numpy as np\n",
    "import time\n",
    "from util_functions import *\n",
    "from typing import List, Dict\n",
    "from sklearn.metrics import precision_score, recall_score, f1_score\n"
   ]
  },
  {
   "cell_type": "code",
   "execution_count": 8,
   "metadata": {},
   "outputs": [],
   "source": [
    "### Copy from chunchao's code...\n",
    "from sklearn.datasets import make_classification as mc\n",
    "\n",
    "X1, Y1 = mc(n_samples=2000, n_classes=20, n_features=5, n_redundant=0, n_informative=5, n_clusters_per_class=1,\n",
    "                    random_state=1)\n",
    "X = X1.copy()\n",
    "Y = Y1[:, None].copy()"
   ]
  },
  {
   "cell_type": "code",
   "execution_count": 9,
   "metadata": {},
   "outputs": [],
   "source": [
    "train_test_split = 1300\n",
    "X_train, X_test = Tensor(X[:train_test_split]), Tensor(X[train_test_split:])\n",
    "Y_train, Y_test = Tensor(Y[:train_test_split]), Tensor(Y[train_test_split:])"
   ]
  },
  {
   "cell_type": "code",
   "execution_count": 10,
   "metadata": {},
   "outputs": [
    {
     "name": "stdout",
     "output_type": "stream",
     "text": [
      "The number of classes: 20\n",
      "The number of train data samples: 1300\n",
      "The number of test data samples: 700\n",
      "The number of features: 5\n"
     ]
    }
   ],
   "source": [
    "print('The number of classes:', Y.max() - Y.min() + 1)\n",
    "print('The number of train data samples:' , X_train.shape[0])\n",
    "print('The number of test data samples:' , X_test.shape[0])\n",
    "print('The number of features:', X_train.shape[-1])"
   ]
  },
  {
   "cell_type": "code",
   "execution_count": 11,
   "metadata": {},
   "outputs": [],
   "source": [
    "# Define hyperparameters\n",
    "\n",
    "clf_list = [20]\n",
    "# NOTE\n",
    "# len(clf_list) the total number of outputs\n",
    "# clf_list[i] the number of classes for (i+1)th output\n",
    "n_outputs = len(clf_list) # =1, only one output\n",
    "n_latent = int(Tensor(clf_list).sum()) # NOTE n_outputs != n_latent for general cases\n",
    "n_inputs = int(X_train.shape[0])\n",
    "index_dim = X_train.shape[-1] # this is 5\n",
    "latent_dim = 2\n",
    "n_inducing_inputs = 10\n",
    "n_inducing_latent = 3\n",
    "pca = False # Think carefully when setting this to True\n",
    "n_total= n_outputs * n_inputs\n",
    "\n",
    "n_train_iterations = 300 # 1000\n",
    "learning_rate = 0.5\n",
    "schduler_step_size = 50\n",
    "schduler_gamma = 0.9\n",
    "num_latent_MC = 3\n",
    "\n",
    "num_class_per_output = 10\n",
    "num_input_samples = 300"
   ]
  },
  {
   "cell_type": "code",
   "execution_count": 12,
   "metadata": {},
   "outputs": [],
   "source": [
    "# Specify model, likelihood and training objective.\n",
    "my_model = LVMOGP_SVI(n_X=n_latent, n_C=n_inputs, index_dim=index_dim, latent_dim=latent_dim, n_inducing_C=n_inducing_inputs, n_inducing_X=n_inducing_latent, data_Y=None, pca=pca)\n",
    "likelihood = Multi_Output_Multi_Class_AR_Likelihood(clf_list)\n",
    "mll = ClfVariationalELBO(likelihood, my_model, num_data=n_total)\n",
    "\n",
    "# Optimizer and Scheduler\n",
    "optimizer = torch.optim.Adam([ # TODO: tune the choice of optimizer: SGD...\n",
    "    {'params': my_model.parameters()}], lr=learning_rate)\n",
    "\n",
    "# scheduler = CyclicLR(optimizer, base_lr=0.01, max_lr=0.5, step_size_up=20, mode='triangular', cycle_momentum=False)\n",
    "scheduler = StepLR(optimizer, step_size=schduler_step_size, gamma=schduler_gamma)"
   ]
  },
  {
   "cell_type": "code",
   "execution_count": 13,
   "metadata": {},
   "outputs": [],
   "source": [
    "# print(my_model.X.q_log_sigma.detach().exp())"
   ]
  },
  {
   "cell_type": "code",
   "execution_count": 14,
   "metadata": {},
   "outputs": [],
   "source": [
    "def clf_sample_f_index_everyoutput(my_model, clf_list:List, labels:Tensor, num_class_per_output=5, num_input_samples:int=100, re_index_latent_idxs=True):\n",
    "    '''\n",
    "    After feeding (all_outputs, all_classes, all_inputs, index_dim) of inputs, we will get f of shape (all_outputs, all_classes, all_inputs).\n",
    "    This function subsamples indices of f.\n",
    "    All outputs are preserved, only classes and inputs are subsampled.\n",
    "    Args:\n",
    "        my_model: an instance of LVMOGP_SVI, _get_batch_idx function is in use.\n",
    "        clf_list: list of n_classes. for example, [20, 13, 17] means 3 outputs with 20, 13, 17 classes respectively.\n",
    "        labels: of shape (n_inputs, n_outputs). labels[a][b] extracts the classification label for a+1 th input at b+1 th output. \n",
    "        num_class_per_output: how many classes we want during subsampling.\n",
    "            TODO: different output has different num of classes\n",
    "        num_input_samples: how many data samples we want duing subsampling.\n",
    "\n",
    "    Return:\n",
    "        batch_index_latent: of shape (num_outputs, num_class_per_output+1, num_input_samples)\n",
    "        batch_index_inputs: of shape (num_outputs, num_class_per_output+1, num_input_samples)\n",
    "    NOTE: \n",
    "        1. Same set of inputs for every output.\n",
    "        2. Same number of classes are downsampled for every output, seems unresonable if # total classes vary a lot across outputs.\n",
    "        3. The final index on the second dim of batch_index_inputs is true label of the corresponding (input, output) pair which is useful in the future.\n",
    "    '''\n",
    "\n",
    "    num_outputs = len(clf_list)\n",
    "    input_samples = Tensor(my_model._get_batch_idx(num_input_samples, sample_X = False)).to(int)\n",
    "\n",
    "    final_inputs_idxs = input_samples.unsqueeze(0).unsqueeze(0)\n",
    "    final_inputs_idxs = final_inputs_idxs.expand(num_outputs, (num_class_per_output+1), num_input_samples)\n",
    "\n",
    "    final_latent_idxs = torch.zeros(num_outputs, (num_class_per_output+1), num_input_samples)\n",
    "\n",
    "    for i in range(num_input_samples):\n",
    "        for j in range(num_outputs):\n",
    "            curr_true_label_idx = int(labels[input_samples[i], j]) # classification label for i+1 th input at j+1 th output ; labels[final_inputs_idxs[j,0,i]][j]\n",
    "            num_class_curr_output = clf_list[j]\n",
    "            available_range = list(np.arange(num_class_curr_output)[np.arange(num_class_curr_output) != curr_true_label_idx]) \n",
    "            assert len(available_range) == num_class_curr_output - 1\n",
    "            curr_class_idx_list = random.sample(available_range, num_class_per_output)\n",
    "            curr_class_idx_list.append(curr_true_label_idx) # of length num_class_per_output + 1\n",
    "            assert len(curr_class_idx_list) == num_class_per_output + 1\n",
    "            \n",
    "            final_latent_idxs[j,:,i] = Tensor(curr_class_idx_list)\n",
    "    \n",
    "    assert final_inputs_idxs.shape == final_latent_idxs.shape\n",
    "\n",
    "    if not re_index_latent_idxs:\n",
    "        return final_latent_idxs.to(int), final_inputs_idxs\n",
    "    \n",
    "    # Transform idx properly to better match slicing functionality from my_model.sample_latent_variable()\n",
    "    # as \n",
    "    else:\n",
    "        counter = 0\n",
    "        for j in range(num_outputs):\n",
    "            final_latent_idxs[j,...] += counter\n",
    "            counter += clf_list[j]\n",
    "        return final_latent_idxs.to(int), final_inputs_idxs\n"
   ]
  },
  {
   "cell_type": "markdown",
   "metadata": {},
   "source": [
    "## Initialization"
   ]
  },
  {
   "cell_type": "code",
   "execution_count": null,
   "metadata": {},
   "outputs": [],
   "source": []
  },
  {
   "cell_type": "code",
   "execution_count": null,
   "metadata": {},
   "outputs": [],
   "source": []
  },
  {
   "cell_type": "markdown",
   "metadata": {},
   "source": [
    "## Training"
   ]
  },
  {
   "cell_type": "code",
   "execution_count": 15,
   "metadata": {},
   "outputs": [
    {
     "name": "stderr",
     "output_type": "stream",
     "text": [
      "Loss: 0.31, iter no: 299: 100%|██████████| 300/300 [01:54<00:00,  2.61it/s]\n"
     ]
    }
   ],
   "source": [
    "# Training!\n",
    "loss_list = []\n",
    "iterator = trange(n_train_iterations, leave=True)\n",
    "\n",
    "my_model.train()\n",
    "for i in iterator: \n",
    "    batch_index_latent, batch_index_inputs = clf_sample_f_index_everyoutput(my_model, clf_list, Y_train, num_class_per_output=num_class_per_output, num_input_samples=num_input_samples)\n",
    "    # core code is here \n",
    "    optimizer.zero_grad()\n",
    "    total_loss = 0\n",
    "    for _ in range(num_latent_MC):\n",
    "        sample_latent = my_model.sample_latent_variable(batch_index_latent) \n",
    "        sample_inputs = X_train[batch_index_inputs]\n",
    "        output_batch = my_model(sample_latent.reshape(-1,latent_dim), sample_inputs.reshape(-1,index_dim)) # q(f)\n",
    "        loss = -mll(output_batch, ref=batch_index_latent)\n",
    "        total_loss += loss\n",
    "    \n",
    "    average_loss = total_loss / num_latent_MC\n",
    "    loss_list.append(average_loss.item())\n",
    "    iterator.set_description('Loss: ' + str(float(np.round(average_loss.item(),2))) + \", iter no: \" + str(i))\n",
    "    average_loss.backward()\n",
    "    \n",
    "    # Gradient Clipping. Try Many Different Approaches.\n",
    "    gradient_clip(my_model, approach='Global Norm Clipping', clip_value=5)\n",
    "    # gradient_clip(likelihood, clip_value=1)\n",
    "    \n",
    "    optimizer.step()\n",
    "    scheduler.step()"
   ]
  },
  {
   "cell_type": "code",
   "execution_count": 16,
   "metadata": {},
   "outputs": [
    {
     "data": {
      "text/plain": [
       "[<matplotlib.lines.Line2D at 0x7fc1ef81ce20>]"
      ]
     },
     "execution_count": 16,
     "metadata": {},
     "output_type": "execute_result"
    },
    {
     "data": {
      "image/png": "[encoded data removed]",
      "text/plain": [
       "<Figure size 640x480 with 1 Axes>"
      ]
     },
     "metadata": {},
     "output_type": "display_data"
    }
   ],
   "source": [
    "import matplotlib.pyplot as plt\n",
    "\n",
    "plt.plot(loss_list)"
   ]
  },
  {
   "cell_type": "markdown",
   "metadata": {},
   "source": [
    "## Testing"
   ]
  },
  {
   "cell_type": "code",
   "execution_count": 17,
   "metadata": {},
   "outputs": [],
   "source": [
    "# my_model.X.q_mu.detach()\n",
    "# my_model.X.q_log_sigma.detach().exp()"
   ]
  },
  {
   "cell_type": "code",
   "execution_count": 18,
   "metadata": {},
   "outputs": [],
   "source": [
    "def Softmax_function(f_mean:Tensor, f_var:Tensor, num_MC_samples:int=50):\n",
    "    '''\n",
    "    Single output softmax funciton, i.e., given latent parameter values, we get probabilities for each class.\n",
    "    The reparametrization trick is in use for Monte Carlo estimation ... \n",
    "    The methodology is from paper:\n",
    "        <Scalable Gaussian Process Classification With Additive Noise for Non-Gaussian Likelihoods> 2022, Liu et al.\n",
    "    \n",
    "    Args:\n",
    "        f_mean: of shape (n_test_samples, n_classes)\n",
    "        f_var: of shape (n_test_samples, n_classes)\n",
    "    \n",
    "    Return:\n",
    "        results_prob_mean: of shape (n_test_samples, n_classes)\n",
    "        results_prob_var: of shape (n_test_samples, n_classes)\n",
    "        results_decisions: of shape (n_test_samples)\n",
    "        results_decisions_var: of shape (n_test_samples)\n",
    "    '''\n",
    "    n_test_samples, n_classes = f_mean.shape[0], f_mean.shape[1]\n",
    "    # reparametrization trick for MC estimation!\n",
    "    sample_f = f_mean.unsqueeze(-1).expand(-1, -1, num_MC_samples) + f_var.sqrt().unsqueeze(-1).expand(-1, -1, num_MC_samples) + torch.randn(n_test_samples, n_classes, num_MC_samples)\n",
    "    assert sample_f.shape == torch.Size([n_test_samples, n_classes, num_MC_samples])\n",
    "    exp_sample_f_term = sample_f.exp()\n",
    "    exp_sample_f_sum_term = exp_sample_f_term.sum(1).unsqueeze(1).expand(-1, n_classes, -1) # sum over n_classes, then expand to proper size (for future use)\n",
    "    softmax_ratios = exp_sample_f_term / exp_sample_f_sum_term\n",
    "\n",
    "    results_prob_mean = softmax_ratios.mean(-1)\n",
    "    results_prob_var = softmax_ratios.var(-1)\n",
    "    results_decisions = results_prob_mean.argmax(1)\n",
    "    results_decisions_var = results_prob_var.sum(1)\n",
    "\n",
    "    return results_prob_mean, results_prob_var, results_decisions, results_decisions_var  \n",
    "    "
   ]
  },
  {
   "cell_type": "code",
   "execution_count": 19,
   "metadata": {},
   "outputs": [],
   "source": [
    "def MOMOC_predict(my_model, X_test:Tensor, clf_list:List, test_mini_batch:int=201, num_MC_samples:int=50, mode='All_Outputs'):\n",
    "    '''\n",
    "    MultiOutput MultiClass prediction given:\n",
    "    Args:\n",
    "        my_model: trained model.\n",
    "        X_test: test input locations. of shape (n_test_samples, num_features).\n",
    "        clf_list: list of # of classes (for every output). \n",
    "        mode: whether all output predictions of all test inputs are needed.\n",
    "    Return:\n",
    "        all_outputs_prob_mean, all_outputs_prob_var: List of tensors. length of List is n_outputs, shape of each tensor is (num_test_inputs, num_classes), num_classes might varies for different output.\n",
    "        all_outputs_decisions, all_outputs_decisions_var: tensor of shape (n_test_samples, num_outputs)\n",
    "    '''\n",
    "    my_model.eval()\n",
    "    n_outputs = len(clf_list)\n",
    "    n_test_samples = X_test.shape[0]\n",
    "    X_q_mu = my_model.X.q_mu.detach()\n",
    "    n_latent = X_q_mu.shape[0]\n",
    "\n",
    "    if mode == 'All_Outputs':\n",
    "\n",
    "        # NOTE we would like two equal length 1d tensor for extracting elements in X_q_mu and X_test and feed them to my_model.\n",
    "        # the length is n_latent * n_test_samples\n",
    "\n",
    "        # ------------------------------------------------------------------------------------------------------------------------------\n",
    "        # * we will get prediction results input by input. i.e. the first batch of outputs (of length n_latent) are for first test input, followed by\n",
    "        # second input, third input and so on. \n",
    "\n",
    "        # * for first n_latent of prediction outputs, they are ordered task by task. i.e. first batch of them (of length clf_list[0]) are for first task,\n",
    "        # followed by second task (of first input) and so on.\n",
    "\n",
    "        # * by doing this, we may have very very long tensor which might not available for feeding into the model entirely at once. the solution here is\n",
    "        # applying mini-batching ...\n",
    "        # ------------------------------------------------------------------------------------------------------------------------------\n",
    "        \n",
    "        all_latent_index = Tensor(np.arange(n_latent)).repeat(n_test_samples)\n",
    "        all_input_index = Tensor([i for i in range(n_test_samples) for _ in range(n_latent)])\n",
    "\n",
    "        assert all_input_index.shape == all_latent_index.shape\n",
    "        assert (all_latent_index[:n_latent]).var() != 0.0\n",
    "        assert (all_input_index[:n_latent]).var() == 0.0 # all same elements\n",
    "\n",
    "        test_mini_batch = test_mini_batch\n",
    "        pred_results_mean = torch.zeros(int(n_latent * n_test_samples))\n",
    "        pred_results_var = torch.zeros(int(n_latent * n_test_samples))\n",
    "        test_continue = True\n",
    "        start_idx = 0\n",
    "        end_idx = test_mini_batch\n",
    "        while test_continue:\n",
    "            batch_latent = X_q_mu[all_latent_index[start_idx:end_idx].to(int)] # TODO: only mean are taken into consideration ...\n",
    "            batch_inputs = X_test[all_input_index[start_idx:end_idx].to(int)]\n",
    "            batch_output = my_model(batch_latent, batch_inputs) # q(f): batch prediction\n",
    "            pred_results_mean[start_idx:end_idx] = batch_output.loc.detach()\n",
    "            pred_results_var[start_idx:end_idx] = batch_output.variance.detach()\n",
    "            # pred_results_mean.append(batch_output.loc.detach().tolist()) # This will leads to list of list, which is not desirable...\n",
    "            # pred_results_var.append(batch_output.variance.detach().tolist())\n",
    "\n",
    "            if end_idx < n_latent * n_test_samples:\n",
    "                start_idx += test_mini_batch\n",
    "                end_idx += test_mini_batch\n",
    "                end_idx = min(end_idx, int(n_latent * n_test_samples))\n",
    "            else:\n",
    "                test_continue = False\n",
    "\n",
    "        assert len(pred_results_mean) == len(pred_results_var) == int(n_latent * n_test_samples)\n",
    "        \n",
    "        pred_results_mean_tensor = Tensor(pred_results_mean).reshape(n_test_samples, n_latent)\n",
    "        pred_results_var_tensor  = Tensor(pred_results_var).reshape(n_test_samples, n_latent)\n",
    "        \n",
    "        # NOTE: n_latent is the number of all latents for all outputs.\n",
    "        # ------------------------------------------------------------------------------------------------------------------------------\n",
    "        # We need to chunk pred_results_mean_tensor and pred_results_var_tensor into n_outputs tensors, each of them can be fed into previously defined\n",
    "        # Softmax_function for getting predictions.\n",
    "        # ------------------------------------------------------------------------------------------------------------------------------\n",
    "        split_mean_tensors = torch.split(pred_results_mean_tensor, clf_list, dim=-1) # tuple of tensors\n",
    "        split_var_tensors = torch.split(pred_results_var_tensor, clf_list, dim=-1)\n",
    "        assert n_outputs == len(split_mean_tensors) == len(split_var_tensors)\n",
    "\n",
    "        all_outputs_prob_mean = []\n",
    "        all_outputs_prob_var = []\n",
    "        all_outputs_decisions = torch.zeros(n_test_samples, n_outputs)\n",
    "        all_outputs_decisions_var = torch.zeros(n_test_samples, n_outputs)\n",
    "\n",
    "\n",
    "        for i in range(n_outputs):\n",
    "            _prob_mean, _prob_var, _decisions, _decisions_var = Softmax_function(f_mean=split_mean_tensors[i], f_var=split_var_tensors[i], num_MC_samples=num_MC_samples)\n",
    "            all_outputs_prob_mean.append(_prob_mean) # List of tensors\n",
    "            all_outputs_prob_var.append(_prob_var)   # List of tensors\n",
    "            all_outputs_decisions[:,i] = _decisions\n",
    "            all_outputs_decisions_var[:,i] = _decisions_var\n",
    "\n",
    "    return all_outputs_prob_mean, all_outputs_prob_var, all_outputs_decisions, all_outputs_decisions_var"
   ]
  },
  {
   "cell_type": "code",
   "execution_count": 28,
   "metadata": {},
   "outputs": [],
   "source": [
    "def MOMC_classification_eval(predictions:Tensor, labels:Tensor) -> Dict[str, List[float]]:\n",
    "    '''\n",
    "    This function evaluate classification performance for every output given predictions tensor and labels tensor.\n",
    "    \n",
    "    Evaluation metrices are: precisions weighted, recall weighted and F1 weighted.\n",
    "\n",
    "    Args:\n",
    "        predictions: Tensor of shape (num_samples, num_outputs)\n",
    "        labels: Tensor of shape (num_samples, num_outputs)\n",
    "    \n",
    "    Return:\n",
    "        eval_results: dictionary, keys: Precision_Weighted, Recall_Weighted, F1_weighted.\n",
    "                    for each key, the dict contains a list of performance for all outputs.\n",
    "    '''\n",
    "    eval_results = {'Precision_Weighted': [], 'Recall_Weighted': [], 'F1_Weighted': []}  \n",
    "\n",
    "    # Iterate through each output\n",
    "    for output in range(labels.size(1)):\n",
    "        # Extract predictions and labels for the current output\n",
    "        preds = predictions[:, output]\n",
    "        lbls = labels[:, output]\n",
    "\n",
    "        # Calculate weighted metrics for the current output\n",
    "        precision = precision_score(lbls, preds, average='weighted')\n",
    "        recall = recall_score(lbls, preds, average='weighted')\n",
    "        f1 = f1_score(lbls, preds, average='weighted')\n",
    "\n",
    "        # Store the results\n",
    "        eval_results['Precision_Weighted'].append(precision)\n",
    "        eval_results['Recall_Weighted'].append(recall)\n",
    "        eval_results['F1_Weighted'].append(f1)\n",
    "\n",
    "    return eval_results"
   ]
  },
  {
   "cell_type": "code",
   "execution_count": 21,
   "metadata": {},
   "outputs": [
    {
     "data": {
      "text/plain": [
       "\"\\nfor name, param in my_model.named_parameters():\\n    if 'variational_strategy.inducing' in name:\\n        print(name, param.size())\\n        print(param)\\n\""
      ]
     },
     "execution_count": 21,
     "metadata": {},
     "output_type": "execute_result"
    }
   ],
   "source": [
    "'''\n",
    "for name, param in my_model.named_parameters():\n",
    "    if 'variational_strategy.inducing' in name:\n",
    "        print(name, param.size())\n",
    "        print(param)\n",
    "'''"
   ]
  },
  {
   "cell_type": "code",
   "execution_count": 22,
   "metadata": {},
   "outputs": [],
   "source": [
    "all_outputs_prob_mean, all_outputs_prob_var, all_outputs_decisions, all_outputs_decisions_var = MOMOC_predict(my_model, X_train, clf_list)"
   ]
  },
  {
   "cell_type": "code",
   "execution_count": 23,
   "metadata": {},
   "outputs": [
    {
     "data": {
      "text/plain": [
       "tensor(0.0585)"
      ]
     },
     "execution_count": 23,
     "metadata": {},
     "output_type": "execute_result"
    }
   ],
   "source": [
    "(1.0 * (all_outputs_decisions == Y_train)).mean()"
   ]
  },
  {
   "cell_type": "code",
   "execution_count": 29,
   "metadata": {},
   "outputs": [],
   "source": [
    "eval_results = MOMC_classification_eval(all_outputs_decisions, Y_train)"
   ]
  },
  {
   "cell_type": "code",
   "execution_count": 30,
   "metadata": {},
   "outputs": [
    {
     "data": {
      "text/plain": [
       "{'Precision_Weighted': [0.05823393716057524],\n",
       " 'Recall_Weighted': [0.05846153846153846],\n",
       " 'F1_Weighted': [0.0578988121943782]}"
      ]
     },
     "execution_count": 30,
     "metadata": {},
     "output_type": "execute_result"
    }
   ],
   "source": [
    "eval_results"
   ]
  },
  {
   "cell_type": "code",
   "execution_count": null,
   "metadata": {},
   "outputs": [],
   "source": []
  }
 ],
 "metadata": {
  "kernelspec": {
   "display_name": "GPLVM",
   "language": "python",
   "name": "python3"
  },
  "language_info": {
   "codemirror_mode": {
    "name": "ipython",
    "version": 3
   },
   "file_extension": ".py",
   "mimetype": "text/x-python",
   "name": "python",
   "nbconvert_exporter": "python",
   "pygments_lexer": "ipython3",
   "version": "3.9.17"
  }
 },
 "nbformat": 4,
 "nbformat_minor": 2
}
